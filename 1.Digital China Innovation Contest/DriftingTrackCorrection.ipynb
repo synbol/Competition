{
 "cells": [
  {
   "cell_type": "code",
   "execution_count": 112,
   "metadata": {},
   "outputs": [],
   "source": [
    "import pandas as pd\n",
    "import numpy as np\n",
    "import math\n",
    "import matplotlib.pyplot as plt\n",
    "from netCDF4 import Dataset\n",
    "import datetime\n",
    "from geographiclib.geodesic import Geodesic\n",
    "plt.rcParams['figure.max_open_warning'] = 0"
   ]
  },
  {
   "cell_type": "code",
   "execution_count": 113,
   "metadata": {},
   "outputs": [],
   "source": [
    "id_end = pd.read_csv(\"id_end.csv\",parse_dates = [[\"date\",\"time\"]])"
   ]
  },
  {
   "cell_type": "code",
   "execution_count": 114,
   "metadata": {},
   "outputs": [],
   "source": [
    "#加载训练数据\n",
    "submit1 = pd.read_csv(\"sub28_GBRT20_41.csv\")\n",
    "submit1 = submit1[~submit1.id.isin(id_end.id)]"
   ]
  },
  {
   "cell_type": "code",
   "execution_count": 115,
   "metadata": {},
   "outputs": [
    {
     "name": "stderr",
     "output_type": "stream",
     "text": [
      "100%|████████████████████████████████████████████████████████████████████████████████| 113/113 [00:39<00:00,  2.87it/s]\n"
     ]
    }
   ],
   "source": [
    "submit0 = pd.DataFrame(columns=['id','date','time','lng_temp','lat_temp'])\n",
    "from tqdm import tqdm\n",
    "for i in tqdm(range(id_end.shape[0])):\n",
    "    new = id_end[i:i+1].copy()\n",
    "    for j in range(96):\n",
    "        new[\"date\"] = new.date_time.dt.strftime(\"%Y/%m/%d\")\n",
    "        new[\"time\"] = new.date_time.dt.strftime(\"%H:%M\")\n",
    "        new.date_time = new.date_time + datetime.timedelta(minutes=30)\n",
    "        new[\"lng_temp\"] = np.average([new.lng.values[0],new.lng_end.values[0]],weights=[(96-j),j])\n",
    "        new[\"lat_temp\"] = np.average([new.lat.values[0],new.lat_end.values[0]],weights=[(96-j),j])\n",
    "        submit0 = submit0.append(new[['id','date','time','lng_temp','lat_temp']],ignore_index=True)"
   ]
  },
  {
   "cell_type": "code",
   "execution_count": 116,
   "metadata": {},
   "outputs": [],
   "source": [
    "submit0.rename(columns={'lng_temp':'lng', 'lat_temp':'lat'}, inplace = True)"
   ]
  },
  {
   "cell_type": "code",
   "execution_count": 117,
   "metadata": {},
   "outputs": [],
   "source": [
    "submit_dataset = pd.concat([submit0,submit1],axis=0)"
   ]
  },
  {
   "cell_type": "code",
   "execution_count": 120,
   "metadata": {},
   "outputs": [],
   "source": [
    "#排序\n",
    "test_dataset = pd.read_csv(\"test.csv\",parse_dates = [[\"date\",\"time\"]])\n",
    "sub_order = test_dataset.id.tolist()\n",
    "submit_dataset = submit_dataset.reset_index()\n",
    "submit_dataset['id'] = submit_dataset['id'].astype('category')\n",
    "submit_dataset['id'].cat.set_categories(sub_order, inplace=True) # inplace = True，使 set_categories生效\n",
    "submit_dataset.sort_values(['id','index'], ascending=[True,True],inplace=True)\n",
    "submit_dataset = submit_dataset.drop(\"index\",axis = 1)"
   ]
  },
  {
   "cell_type": "code",
   "execution_count": 122,
   "metadata": {},
   "outputs": [],
   "source": [
    "submit_dataset.to_csv(\"sub29_GBRT20_41_fix.csv\",index=False)"
   ]
  },
  {
   "cell_type": "code",
   "execution_count": 121,
   "metadata": {},
   "outputs": [
    {
     "data": {
      "text/html": [
       "<div>\n",
       "<style scoped>\n",
       "    .dataframe tbody tr th:only-of-type {\n",
       "        vertical-align: middle;\n",
       "    }\n",
       "\n",
       "    .dataframe tbody tr th {\n",
       "        vertical-align: top;\n",
       "    }\n",
       "\n",
       "    .dataframe thead th {\n",
       "        text-align: right;\n",
       "    }\n",
       "</style>\n",
       "<table border=\"1\" class=\"dataframe\">\n",
       "  <thead>\n",
       "    <tr style=\"text-align: right;\">\n",
       "      <th></th>\n",
       "      <th>date</th>\n",
       "      <th>time</th>\n",
       "      <th>lng</th>\n",
       "      <th>lat</th>\n",
       "    </tr>\n",
       "    <tr>\n",
       "      <th>id</th>\n",
       "      <th></th>\n",
       "      <th></th>\n",
       "      <th></th>\n",
       "      <th></th>\n",
       "    </tr>\n",
       "  </thead>\n",
       "  <tbody>\n",
       "    <tr>\n",
       "      <th>14983</th>\n",
       "      <td>96</td>\n",
       "      <td>96</td>\n",
       "      <td>96</td>\n",
       "      <td>96</td>\n",
       "    </tr>\n",
       "    <tr>\n",
       "      <th>22597</th>\n",
       "      <td>96</td>\n",
       "      <td>96</td>\n",
       "      <td>96</td>\n",
       "      <td>96</td>\n",
       "    </tr>\n",
       "    <tr>\n",
       "      <th>26303</th>\n",
       "      <td>96</td>\n",
       "      <td>96</td>\n",
       "      <td>96</td>\n",
       "      <td>96</td>\n",
       "    </tr>\n",
       "    <tr>\n",
       "      <th>29235</th>\n",
       "      <td>96</td>\n",
       "      <td>96</td>\n",
       "      <td>96</td>\n",
       "      <td>96</td>\n",
       "    </tr>\n",
       "    <tr>\n",
       "      <th>30698</th>\n",
       "      <td>96</td>\n",
       "      <td>96</td>\n",
       "      <td>96</td>\n",
       "      <td>96</td>\n",
       "    </tr>\n",
       "    <tr>\n",
       "      <th>...</th>\n",
       "      <td>...</td>\n",
       "      <td>...</td>\n",
       "      <td>...</td>\n",
       "      <td>...</td>\n",
       "    </tr>\n",
       "    <tr>\n",
       "      <th>974010</th>\n",
       "      <td>96</td>\n",
       "      <td>96</td>\n",
       "      <td>96</td>\n",
       "      <td>96</td>\n",
       "    </tr>\n",
       "    <tr>\n",
       "      <th>990797</th>\n",
       "      <td>96</td>\n",
       "      <td>96</td>\n",
       "      <td>96</td>\n",
       "      <td>96</td>\n",
       "    </tr>\n",
       "    <tr>\n",
       "      <th>996698</th>\n",
       "      <td>96</td>\n",
       "      <td>96</td>\n",
       "      <td>96</td>\n",
       "      <td>96</td>\n",
       "    </tr>\n",
       "    <tr>\n",
       "      <th>999443</th>\n",
       "      <td>96</td>\n",
       "      <td>96</td>\n",
       "      <td>96</td>\n",
       "      <td>96</td>\n",
       "    </tr>\n",
       "    <tr>\n",
       "      <th>999859</th>\n",
       "      <td>96</td>\n",
       "      <td>96</td>\n",
       "      <td>96</td>\n",
       "      <td>96</td>\n",
       "    </tr>\n",
       "  </tbody>\n",
       "</table>\n",
       "<p>160 rows × 4 columns</p>\n",
       "</div>"
      ],
      "text/plain": [
       "        date  time  lng  lat\n",
       "id                          \n",
       "14983     96    96   96   96\n",
       "22597     96    96   96   96\n",
       "26303     96    96   96   96\n",
       "29235     96    96   96   96\n",
       "30698     96    96   96   96\n",
       "...      ...   ...  ...  ...\n",
       "974010    96    96   96   96\n",
       "990797    96    96   96   96\n",
       "996698    96    96   96   96\n",
       "999443    96    96   96   96\n",
       "999859    96    96   96   96\n",
       "\n",
       "[160 rows x 4 columns]"
      ]
     },
     "execution_count": 121,
     "metadata": {},
     "output_type": "execute_result"
    }
   ],
   "source": [
    "submit_dataset.groupby(\"id\").count()"
   ]
  },
  {
   "cell_type": "code",
   "execution_count": null,
   "metadata": {},
   "outputs": [],
   "source": []
  }
 ],
 "metadata": {
  "kernelspec": {
   "display_name": "Python 3",
   "language": "python",
   "name": "python3"
  },
  "language_info": {
   "codemirror_mode": {
    "name": "ipython",
    "version": 3
   },
   "file_extension": ".py",
   "mimetype": "text/x-python",
   "name": "python",
   "nbconvert_exporter": "python",
   "pygments_lexer": "ipython3",
   "version": "3.8.8"
  }
 },
 "nbformat": 4,
 "nbformat_minor": 2
}
