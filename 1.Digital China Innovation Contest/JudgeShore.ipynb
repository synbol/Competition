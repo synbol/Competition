{
 "cells": [
  {
   "cell_type": "code",
   "execution_count": 1,
   "metadata": {},
   "outputs": [],
   "source": [
    "import pandas as pd\n",
    "import numpy as np\n",
    "import matplotlib.pyplot as plt\n",
    "from netCDF4 import Dataset\n",
    "plt.rcParams['figure.max_open_warning'] = 0"
   ]
  },
  {
   "cell_type": "code",
   "execution_count": 2,
   "metadata": {},
   "outputs": [
    {
     "name": "stdout",
     "output_type": "stream",
     "text": [
      "(160, 5)\n"
     ]
    },
    {
     "data": {
      "text/html": [
       "<div>\n",
       "<style scoped>\n",
       "    .dataframe tbody tr th:only-of-type {\n",
       "        vertical-align: middle;\n",
       "    }\n",
       "\n",
       "    .dataframe tbody tr th {\n",
       "        vertical-align: top;\n",
       "    }\n",
       "\n",
       "    .dataframe thead th {\n",
       "        text-align: right;\n",
       "    }\n",
       "</style>\n",
       "<table border=\"1\" class=\"dataframe\">\n",
       "  <thead>\n",
       "    <tr style=\"text-align: right;\">\n",
       "      <th></th>\n",
       "      <th>id</th>\n",
       "      <th>date</th>\n",
       "      <th>time</th>\n",
       "      <th>lng</th>\n",
       "      <th>lat</th>\n",
       "    </tr>\n",
       "  </thead>\n",
       "  <tbody>\n",
       "    <tr>\n",
       "      <th>0</th>\n",
       "      <td>14983</td>\n",
       "      <td>2019-12-17</td>\n",
       "      <td>04:02</td>\n",
       "      <td>117.028774</td>\n",
       "      <td>21.321517</td>\n",
       "    </tr>\n",
       "    <tr>\n",
       "      <th>1</th>\n",
       "      <td>22597</td>\n",
       "      <td>2020-10-19</td>\n",
       "      <td>17:28</td>\n",
       "      <td>118.656037</td>\n",
       "      <td>24.509001</td>\n",
       "    </tr>\n",
       "    <tr>\n",
       "      <th>2</th>\n",
       "      <td>26303</td>\n",
       "      <td>2021-01-28</td>\n",
       "      <td>10:09</td>\n",
       "      <td>120.368133</td>\n",
       "      <td>24.476380</td>\n",
       "    </tr>\n",
       "    <tr>\n",
       "      <th>3</th>\n",
       "      <td>29235</td>\n",
       "      <td>2020-09-21</td>\n",
       "      <td>13:57</td>\n",
       "      <td>119.756953</td>\n",
       "      <td>25.670732</td>\n",
       "    </tr>\n",
       "    <tr>\n",
       "      <th>4</th>\n",
       "      <td>30698</td>\n",
       "      <td>2020-01-07</td>\n",
       "      <td>06:50</td>\n",
       "      <td>118.639635</td>\n",
       "      <td>23.150710</td>\n",
       "    </tr>\n",
       "  </tbody>\n",
       "</table>\n",
       "</div>"
      ],
      "text/plain": [
       "      id        date   time         lng        lat\n",
       "0  14983  2019-12-17  04:02  117.028774  21.321517\n",
       "1  22597  2020-10-19  17:28  118.656037  24.509001\n",
       "2  26303  2021-01-28  10:09  120.368133  24.476380\n",
       "3  29235  2020-09-21  13:57  119.756953  25.670732\n",
       "4  30698  2020-01-07  06:50  118.639635  23.150710"
      ]
     },
     "execution_count": 2,
     "metadata": {},
     "output_type": "execute_result"
    }
   ],
   "source": [
    "#加载测试数据\n",
    "test_dataset = pd.read_csv(\"test_data.csv\")\n",
    "print(test_dataset.shape)   #查看数据形状\n",
    "test_dataset.head()  #查看数据"
   ]
  },
  {
   "cell_type": "code",
   "execution_count": 3,
   "metadata": {
    "scrolled": true
   },
   "outputs": [
    {
     "data": {
      "text/plain": [
       "array([ 14983,  22597,  26303,  29235,  30698,  31064,  36050,  37063,\n",
       "        59745,  66467,  71710,  74554, 102251, 110906, 111669, 119903,\n",
       "       119922, 135501, 144796, 147701, 153947, 154999, 155295, 155550,\n",
       "       157899, 159604, 161165, 168157, 170691, 174501, 189560, 199044,\n",
       "       199252, 205315, 211423, 219106, 221614, 224481, 224855, 236861,\n",
       "       263422, 269103, 275846, 278702, 284552, 287270, 293927, 296643,\n",
       "       299187, 302476, 304397, 313436, 315647, 317609, 318995, 327662,\n",
       "       330450, 331286, 340300, 344664, 355233, 355848, 364656, 386324,\n",
       "       386656, 403467, 403917, 406509, 419396, 419817, 426634, 443857,\n",
       "       454444, 462387, 465785, 470346, 473293, 479632, 481464, 498809,\n",
       "       499109, 499950, 500114, 502710, 504845, 507580, 522133, 531617,\n",
       "       533004, 533517, 571870, 578189, 584858, 603023, 603379, 614662,\n",
       "       625648, 625947, 626023, 626884, 636329, 639323, 641549, 660165,\n",
       "       660196, 678677, 679611, 680070, 687941, 691133, 691792, 693730,\n",
       "       703258, 706866, 712203, 720597, 721804, 737871, 739068, 747544,\n",
       "       769123, 775452, 781526, 796996, 799464, 804207, 809726, 822245,\n",
       "       830197, 835339, 857260, 857740, 859788, 861244, 861458, 863830,\n",
       "       865273, 867166, 867202, 872356, 872878, 875638, 882318, 886394,\n",
       "       889854, 903881, 906835, 926455, 927848, 942667, 943054, 943811,\n",
       "       962190, 965554, 967228, 974010, 990797, 996698, 999443, 999859],\n",
       "      dtype=int64)"
      ]
     },
     "execution_count": 3,
     "metadata": {},
     "output_type": "execute_result"
    }
   ],
   "source": [
    "test_dataset.id.unique()  #160组轨迹"
   ]
  },
  {
   "cell_type": "code",
   "execution_count": 4,
   "metadata": {},
   "outputs": [],
   "source": [
    "from global_land_mask import globe\n",
    "test_is_on_land = []\n",
    "for i in test_dataset.id.unique():\n",
    "    data_temp = test_dataset[test_dataset.id==i][[\"lng\",\"lat\"]]\n",
    "    is_on_land = globe.is_land(data_temp.lat, data_temp.lng)\n",
    "    test_is_on_land.append(is_on_land)\n",
    "id_is_on_land=pd.DataFrame(test_is_on_land,index=test_dataset.id.unique(),columns=[\"is_on_land\"])"
   ]
  },
  {
   "cell_type": "code",
   "execution_count": 5,
   "metadata": {},
   "outputs": [],
   "source": [
    "#id_is_on_land.value_counts()"
   ]
  },
  {
   "cell_type": "code",
   "execution_count": 6,
   "metadata": {},
   "outputs": [],
   "source": [
    "#数据读入\n",
    "Oflow=Dataset('./current/current_hour_20191130.nc')"
   ]
  },
  {
   "cell_type": "code",
   "execution_count": 7,
   "metadata": {},
   "outputs": [],
   "source": [
    "Oflow_lon = Oflow.variables['lon'][:].data.T  # 经度间隔0.005度\n",
    "Oflow_lat = Oflow.variables['lat'][:].data.T   # 纬度间隔0.01度\n",
    "Oflow_u = Oflow.variables['u'][:].data[0][0].T\n",
    "Oflow_v = Oflow.variables['v'][:].data[0][0].T"
   ]
  },
  {
   "cell_type": "code",
   "execution_count": 8,
   "metadata": {},
   "outputs": [],
   "source": [
    "Oflow_db = pd.DataFrame(np.zeros(((211, 301*4))),index=list(range(211)),columns=[[\"lat\"]*301+[\"lon\"]*301+[\"u\"]*301+[\"v\"]*301,list(range(301))*4])"
   ]
  },
  {
   "cell_type": "code",
   "execution_count": 10,
   "metadata": {},
   "outputs": [],
   "source": [
    "Oflow_db[\"lat\"] = Oflow_lat\n",
    "Oflow_db[\"lon\"] = Oflow_lon\n",
    "Oflow_db[\"u\"] = Oflow_u\n",
    "Oflow_db[\"v\"] = Oflow_v"
   ]
  },
  {
   "cell_type": "code",
   "execution_count": null,
   "metadata": {},
   "outputs": [],
   "source": [
    "def GPS_filter(data,lon,lat,num):\n",
    "    distance = 0.003*(num**0.5)\n",
    "    GPSfilter = (data[\"lat\"]>lat-distance) & (data[\"lat\"]<lat+distance) & (data[\"lon\"]>lon-distance) & (data[\"lon\"]<lon+distance)\n",
    "    while GPSfilter.sum().sum()!=num:\n",
    "        if GPSfilter.sum().sum()>num:\n",
    "            distance = distance - 0.001\n",
    "        elif GPSfilter.sum().sum()<num:\n",
    "            distance = distance + 0.00099\n",
    "        GPSfilter = (data[\"lat\"]>lat-distance) & (data[\"lat\"]<lat+distance) & (data[\"lon\"]>lon-distance) & (data[\"lon\"]<lon+distance)\n",
    "    return GPSfilter"
   ]
  },
  {
   "cell_type": "code",
   "execution_count": null,
   "metadata": {},
   "outputs": [],
   "source": [
    "near_land = []\n",
    "from tqdm import tqdm\n",
    "for i in tqdm(test_dataset.id.unique()):\n",
    "    data_temp = test_dataset[test_dataset.id==i][[\"lng\",\"lat\"]]\n",
    "    GPS_sub16 = GPS_filter(Oflow_db,data_temp.head(1).lng.values[0],data_temp.head(1).lat.values[0],16)\n",
    "    near_flag = True if (Oflow_db[\"u\"][GPS_sub16].dropna(axis=0, how='all').dropna(axis=1, how='all').min().min())<-1e10 else False\n",
    "    near_land.append(near_flag)\n",
    "id_is_on_land[\"near_land\"] = near_land"
   ]
  },
  {
   "cell_type": "code",
   "execution_count": null,
   "metadata": {
    "scrolled": true
   },
   "outputs": [],
   "source": [
    "id_is_on_land.value_counts()"
   ]
  },
  {
   "cell_type": "code",
   "execution_count": null,
   "metadata": {},
   "outputs": [],
   "source": [
    "id_is_on_land.to_csv(\"id_is_on_land.csv\")"
   ]
  },
  {
   "cell_type": "code",
   "execution_count": null,
   "metadata": {},
   "outputs": [],
   "source": []
  }
 ],
 "metadata": {
  "kernelspec": {
   "display_name": "Python 3",
   "language": "python",
   "name": "python3"
  },
  "language_info": {
   "codemirror_mode": {
    "name": "ipython",
    "version": 3
   },
   "file_extension": ".py",
   "mimetype": "text/x-python",
   "name": "python",
   "nbconvert_exporter": "python",
   "pygments_lexer": "ipython3",
   "version": "3.8.8"
  }
 },
 "nbformat": 4,
 "nbformat_minor": 2
}
